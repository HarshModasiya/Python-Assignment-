{
 "cells": [
  {
   "cell_type": "code",
   "execution_count": 1,
   "id": "b0e54fee",
   "metadata": {},
   "outputs": [],
   "source": [
    "# question 1\n",
    "\n",
    "## write a pythone programe to sum of the fisrt n positive intiger"
   ]
  },
  {
   "cell_type": "code",
   "execution_count": 2,
   "id": "b75e45e6",
   "metadata": {},
   "outputs": [
    {
     "data": {
      "text/plain": [
       "55"
      ]
     },
     "execution_count": 2,
     "metadata": {},
     "output_type": "execute_result"
    }
   ],
   "source": [
    "a= (1,2,3,4,5,6,7,8,9,10)\n",
    "s = 0\n",
    "for i in a:\n",
    "  s += i \n",
    "s"
   ]
  },
  {
   "cell_type": "code",
   "execution_count": null,
   "id": "dde8cb7d",
   "metadata": {},
   "outputs": [],
   "source": []
  },
  {
   "cell_type": "code",
   "execution_count": 3,
   "id": "b0ce72b1",
   "metadata": {},
   "outputs": [],
   "source": [
    "# Question 2 \n",
    "\n",
    "## write a python programe to count occurrences of a substring in a string"
   ]
  },
  {
   "cell_type": "code",
   "execution_count": 4,
   "id": "3d663a07",
   "metadata": {},
   "outputs": [
    {
     "data": {
      "text/plain": [
       "4"
      ]
     },
     "execution_count": 4,
     "metadata": {},
     "output_type": "execute_result"
    }
   ],
   "source": [
    "title = \"hello! harsh how are you\"\n",
    "title.count('h')"
   ]
  },
  {
   "cell_type": "code",
   "execution_count": null,
   "id": "2eb750d8",
   "metadata": {},
   "outputs": [],
   "source": []
  },
  {
   "cell_type": "code",
   "execution_count": 5,
   "id": "0f8bac5d",
   "metadata": {},
   "outputs": [],
   "source": [
    "# Question 3 \n",
    "\n",
    "## Write a Python program to count the occurrences of each word in a given sentence"
   ]
  },
  {
   "cell_type": "code",
   "execution_count": 6,
   "id": "9b59c8e0",
   "metadata": {},
   "outputs": [
    {
     "name": "stdout",
     "output_type": "stream",
     "text": [
      "2\n",
      "2\n",
      "1\n",
      "1\n"
     ]
    }
   ],
   "source": [
    "h = [\"pen\", \"pencil\" , \"sketchpen\",\"pen\",\"eraser\",\"pencil\"]\n",
    "print(h.count(\"pen\"))\n",
    "print(h.count(\"pencil\"))\n",
    "print(h.count(\"sketchpen\"))\n",
    "print(h.count(\"eraser\"))"
   ]
  },
  {
   "cell_type": "code",
   "execution_count": null,
   "id": "b2e68f79",
   "metadata": {},
   "outputs": [],
   "source": []
  },
  {
   "cell_type": "code",
   "execution_count": 7,
   "id": "53720d80",
   "metadata": {},
   "outputs": [],
   "source": [
    "# Question 4 \n",
    "\n",
    "## Write a Python program to get a single string from two given strings, separated by a space and swap the first two characters of each string."
   ]
  },
  {
   "cell_type": "code",
   "execution_count": 8,
   "id": "42a847b0",
   "metadata": {},
   "outputs": [
    {
     "name": "stdout",
     "output_type": "stream",
     "text": [
      "before swap: harsh   parth\n",
      "after swap: parsh   harth\n"
     ]
    }
   ],
   "source": [
    "a = 'harsh'\n",
    "b = 'parth'\n",
    "\n",
    "print(\"before swap:\",a,\" \",b)\n",
    "\n",
    "a1 = b[:2] + a[2:]\n",
    "b1 = a[:2] + b[2:]\n",
    "\n",
    "print(\"after swap:\",a1,\" \",b1)"
   ]
  },
  {
   "cell_type": "code",
   "execution_count": null,
   "id": "b13c9989",
   "metadata": {},
   "outputs": [],
   "source": []
  },
  {
   "cell_type": "code",
   "execution_count": 9,
   "id": "472ae112",
   "metadata": {},
   "outputs": [],
   "source": [
    "# Question 5\n",
    "\n",
    "## Write a Python program to add 'ing' at the end of a given string (length should be at least 3) If the given string already ends with 'ing' then add 'ly' instead If the string length of the givenstring is less than 3, leave it unchanged\n"
   ]
  },
  {
   "cell_type": "code",
   "execution_count": 10,
   "id": "1558b861",
   "metadata": {},
   "outputs": [
    {
     "name": "stdout",
     "output_type": "stream",
     "text": [
      "ab\n",
      "abcing\n",
      "stringly\n"
     ]
    }
   ],
   "source": [
    "def string(str1):\n",
    "  length = len(str1)\n",
    "\n",
    "  if length > 2:\n",
    "    if str1[-3:] == 'ing':\n",
    "      str1 += 'ly'\n",
    "    else:\n",
    "      str1 += 'ing'\n",
    "\n",
    "  return str1\n",
    "print(string('ab'))\n",
    "print(string('abc'))\n",
    "print(string('string'))"
   ]
  },
  {
   "cell_type": "code",
   "execution_count": null,
   "id": "3a545df5",
   "metadata": {},
   "outputs": [],
   "source": []
  },
  {
   "cell_type": "code",
   "execution_count": 11,
   "id": "ecac443d",
   "metadata": {},
   "outputs": [],
   "source": [
    "# Question 6 \n",
    "\n",
    "## Write a Python program to find the first appearance of the substring 'not' and 'poor' from a given string, if'not' follows the 'poor', replace the whole 'not'...'poor' substring with 'good'."
   ]
  },
  {
   "cell_type": "code",
   "execution_count": 12,
   "id": "0b1fa171",
   "metadata": {},
   "outputs": [
    {
     "name": "stdout",
     "output_type": "stream",
     "text": [
      "The lyrics is good!\n",
      "The lyrics is poor!\n"
     ]
    }
   ],
   "source": [
    "def not_poor(str1):\n",
    "  snot = str1.find('not')\n",
    "  spoor = str1.find('poor')\n",
    "  \n",
    "\n",
    "  if spoor > snot and snot>0 and spoor>0:\n",
    "    str1 = str1.replace(str1[snot:(spoor+4)], 'good')\n",
    "    return str1\n",
    "  else:\n",
    "    return str1\n",
    "print(not_poor('The lyrics is not that poor!'))\n",
    "print(not_poor('The lyrics is poor!'))"
   ]
  },
  {
   "cell_type": "code",
   "execution_count": null,
   "id": "2d66af69",
   "metadata": {},
   "outputs": [],
   "source": []
  },
  {
   "cell_type": "code",
   "execution_count": 13,
   "id": "c5c0acdb",
   "metadata": {},
   "outputs": [],
   "source": [
    "# Question 7\n",
    "\n",
    "## Program to find Greatest Common Divisor of two numbers.\n",
    "###  For example, the GCD of 20 and 28 is 4 and GCD of 98 and 56 is 14."
   ]
  },
  {
   "cell_type": "code",
   "execution_count": 14,
   "id": "1c3d1614",
   "metadata": {},
   "outputs": [
    {
     "name": "stdout",
     "output_type": "stream",
     "text": [
      "4\n"
     ]
    }
   ],
   "source": [
    "a = 20 \n",
    "b = 28\n",
    "\n",
    "def gcd(a,b):\n",
    "    if b == 0:\n",
    "        return a\n",
    "    else:\n",
    "        return gcd(b,a % b)\n",
    "        \n",
    "print(gcd(a,b))"
   ]
  },
  {
   "cell_type": "code",
   "execution_count": 15,
   "id": "bed4b593",
   "metadata": {},
   "outputs": [
    {
     "name": "stdout",
     "output_type": "stream",
     "text": [
      "14\n"
     ]
    }
   ],
   "source": [
    "a = 98\n",
    "b = 56\n",
    "\n",
    "def gcd(a,b):\n",
    "    if b == 0:\n",
    "        return a\n",
    "    else:\n",
    "        return gcd(b,a % b)\n",
    "        \n",
    "print(gcd(a,b))"
   ]
  },
  {
   "cell_type": "code",
   "execution_count": null,
   "id": "9aa0b7b7",
   "metadata": {},
   "outputs": [],
   "source": []
  },
  {
   "cell_type": "code",
   "execution_count": 16,
   "id": "f74df244",
   "metadata": {},
   "outputs": [],
   "source": [
    "# Question 8\n",
    "\n",
    "## Write a Python program to check whether a list contains a sublist"
   ]
  },
  {
   "cell_type": "code",
   "execution_count": 17,
   "id": "ce8b59f7",
   "metadata": {},
   "outputs": [
    {
     "name": "stdout",
     "output_type": "stream",
     "text": [
      "True\n"
     ]
    }
   ],
   "source": [
    "a = [2,4,3,5,7]\n",
    "b = [4,3]\n",
    "c = [3,7]\n",
    "\n",
    "def is_Sublist(l, s):\n",
    "\tsub_set = False\n",
    "\tif s == []:\n",
    "\t\tsub_set = True\n",
    "\t \n",
    "\telse:\n",
    "\t\tfor i in range(len(l)):\n",
    "\t\t\tif l[i] == s[0]:\n",
    "\t\t\t\tn = 1\n",
    "\t\t\t\twhile (n < len(s)) and (l[i+n] == s[n]):\n",
    "\t\t\t\t\tn += 1\n",
    "\t\t\t\tif n == len(s):\n",
    "\t\t\t\t\tsub_set = True\n",
    "\treturn sub_set\n",
    "\n",
    "print(is_Sublist(a, b))"
   ]
  },
  {
   "cell_type": "code",
   "execution_count": null,
   "id": "68fec7b1",
   "metadata": {},
   "outputs": [],
   "source": []
  },
  {
   "cell_type": "code",
   "execution_count": 18,
   "id": "dacc91c8",
   "metadata": {},
   "outputs": [],
   "source": [
    "# Question 9\n",
    "## Write a Python program to find the second smallest number in a list"
   ]
  },
  {
   "cell_type": "code",
   "execution_count": 19,
   "id": "d01d1eb9",
   "metadata": {},
   "outputs": [
    {
     "name": "stdout",
     "output_type": "stream",
     "text": [
      "secound smallest number is : 4\n"
     ]
    }
   ],
   "source": [
    "l= list()\n",
    "\n",
    "l = [5,4,6,9,8,2,20,14,]\n",
    "\n",
    "l.sort()\n",
    "\n",
    "length = len(l)\n",
    "\n",
    "number = l[1]\n",
    "\n",
    "print(\"secound smallest number is :\" , number)"
   ]
  },
  {
   "cell_type": "code",
   "execution_count": null,
   "id": "252967ec",
   "metadata": {},
   "outputs": [],
   "source": []
  },
  {
   "cell_type": "code",
   "execution_count": 20,
   "id": "3cd4b209",
   "metadata": {},
   "outputs": [],
   "source": [
    "# Question 10\n",
    "## Write a Python program to get unique values from a list."
   ]
  },
  {
   "cell_type": "code",
   "execution_count": 21,
   "id": "5f869fce",
   "metadata": {},
   "outputs": [
    {
     "name": "stdout",
     "output_type": "stream",
     "text": [
      "Unique list():\n",
      "\n",
      "10\n",
      "15\n",
      "20\n",
      "25\n",
      "30\n",
      "45\n",
      "60\n"
     ]
    }
   ],
   "source": [
    "list1 = [10, 15, 10, 20, 15, 25, 30, 45, 60] \n",
    "list2 = []\n",
    "\n",
    "for item in list1: \n",
    "    if item not in list2: \n",
    "        list2.append(item) \n",
    "\n",
    "print(\"Unique list():\\n\")    \n",
    "for item in list2: \n",
    "    print(item)"
   ]
  },
  {
   "cell_type": "code",
   "execution_count": null,
   "id": "70f4417f",
   "metadata": {},
   "outputs": [],
   "source": []
  },
  {
   "cell_type": "code",
   "execution_count": 22,
   "id": "429f3b28",
   "metadata": {},
   "outputs": [],
   "source": [
    "# Question 11\n",
    "## write a python programe to unzip a list of tuples into indivisual list"
   ]
  },
  {
   "cell_type": "code",
   "execution_count": 23,
   "id": "6b33cfb6",
   "metadata": {},
   "outputs": [
    {
     "name": "stdout",
     "output_type": "stream",
     "text": [
      "[(1, 3, 8), (2, 4, 9)]\n"
     ]
    }
   ],
   "source": [
    "l = [(1,2), (3,4), (8,9)]\n",
    "print(list(zip(*l)))"
   ]
  },
  {
   "cell_type": "code",
   "execution_count": null,
   "id": "2d20b393",
   "metadata": {},
   "outputs": [],
   "source": []
  },
  {
   "cell_type": "code",
   "execution_count": 24,
   "id": "5fa8457a",
   "metadata": {},
   "outputs": [],
   "source": [
    "# Question 12\n",
    "## Write a Python program to convert a list of tuples into a dictionary"
   ]
  },
  {
   "cell_type": "code",
   "execution_count": 25,
   "id": "a31b3e83",
   "metadata": {},
   "outputs": [
    {
     "name": "stdout",
     "output_type": "stream",
     "text": [
      "{'harsh': 1, 'parth': 2, 'vivek': 3, 'bhavik': 4}\n"
     ]
    }
   ],
   "source": [
    "a = [('harsh',1),('parth',2),('vivek',3),('bhavik',4)]\n",
    "b = dict(a)\n",
    "print(b)\n"
   ]
  },
  {
   "cell_type": "code",
   "execution_count": null,
   "id": "5019f9c9",
   "metadata": {},
   "outputs": [],
   "source": []
  },
  {
   "cell_type": "code",
   "execution_count": 26,
   "id": "d7315db5",
   "metadata": {},
   "outputs": [],
   "source": [
    "#Question 13\n",
    "## write a python programe to sort a dictionary (ascending / descending ) by value.\n"
   ]
  },
  {
   "cell_type": "code",
   "execution_count": 27,
   "id": "edcdfe53",
   "metadata": {},
   "outputs": [
    {
     "name": "stdout",
     "output_type": "stream",
     "text": [
      "[(1, 'a'), (2, 'b'), (3, 'c'), (4, 'd')]\n"
     ]
    }
   ],
   "source": [
    "dictinary = {'c': 3,'a': 1,'d': 4,'b': 2}\n",
    " \n",
    "sort_dictinary = sorted([(value, key)\n",
    " for (key, value) in dictinary.items()])\n",
    " \n",
    "print(sort_dictinary)"
   ]
  },
  {
   "cell_type": "code",
   "execution_count": null,
   "id": "1012361f",
   "metadata": {},
   "outputs": [],
   "source": []
  },
  {
   "cell_type": "code",
   "execution_count": 28,
   "id": "d456c2bf",
   "metadata": {},
   "outputs": [],
   "source": [
    "# Question 14\n",
    "## Write a Python program to find the highest 3 values in a dictionary."
   ]
  },
  {
   "cell_type": "code",
   "execution_count": 29,
   "id": "58ecdac4",
   "metadata": {},
   "outputs": [
    {
     "name": "stdout",
     "output_type": "stream",
     "text": [
      "{'A': 98, 'B': 42, 'C': 58, 'D': 56, 'E': 85, 'F': 72} \n",
      "\n",
      "Dictionary with 3 highest values:\n",
      "Keys: Values\n",
      "A : 98\n",
      "E : 85\n",
      "F : 72\n"
     ]
    }
   ],
   "source": [
    "my_dict = {'A': 98, 'B': 42, 'C': 58,\n",
    "        'D': 56, 'E': 85, 'F': 72}\n",
    " \n",
    "print(my_dict, \"\\n\")\n",
    " \n",
    "print(\"Dictionary with 3 highest values:\")\n",
    "print(\"Keys: Values\")\n",
    " \n",
    "x=list(my_dict.values())\n",
    "x.sort(reverse=True)\n",
    "x=x[:3]\n",
    "for i in x:\n",
    "    for j in my_dict.keys():\n",
    "        if(my_dict[j]==i):\n",
    "            print(str(j)+\" : \"+str(my_dict[j]))"
   ]
  },
  {
   "cell_type": "code",
   "execution_count": null,
   "id": "3c06a860",
   "metadata": {},
   "outputs": [],
   "source": []
  },
  {
   "cell_type": "code",
   "execution_count": 30,
   "id": "2847b7b9",
   "metadata": {},
   "outputs": [],
   "source": [
    "# Question 15\n",
    "## Given a number n, write a python program to make and print the list of Fibonacci series up to n.\n",
    "### Input : n=7\n",
    "### Hint : first 7 numbers in the series\n",
    "### Expected output :\n",
    "### First few Fibonacci numbers are 0, 1, 1, 2, 3, 5, 8, 13"
   ]
  },
  {
   "cell_type": "code",
   "execution_count": 31,
   "id": "87cf24cd",
   "metadata": {},
   "outputs": [
    {
     "name": "stdout",
     "output_type": "stream",
     "text": [
      "0 1 1 2 3 5 8 13 "
     ]
    }
   ],
   "source": [
    "def fibonacci_numbers(num):\n",
    "    if num == 0:\n",
    "        return 0\n",
    "    elif num == 1:\n",
    "        return 1\n",
    "    else:\n",
    "        return fibonacci_numbers(num-2)+fibonacci_numbers(num-1)\n",
    " \n",
    " \n",
    "n = 8\n",
    "for i in range(0, n):\n",
    "    print(fibonacci_numbers(i), end=\" \")"
   ]
  },
  {
   "cell_type": "code",
   "execution_count": null,
   "id": "68a2c35a",
   "metadata": {},
   "outputs": [],
   "source": []
  },
  {
   "cell_type": "code",
   "execution_count": 32,
   "id": "8038cb66",
   "metadata": {},
   "outputs": [],
   "source": [
    "# Queastion 16\n",
    "## Counting the frequencies in a list using a dictionary in Python.\n",
    "### Input : [1, 1, 1, 5, 5, 3, 1, 3, 3, 1,4, 4, 4, 2, 2, 2, 2]\n",
    "### Expected output : 1 : 5 , 2 : 4 , 3 : 3 , 4 : 3 , 5 : 2"
   ]
  },
  {
   "cell_type": "code",
   "execution_count": 33,
   "id": "73690c68",
   "metadata": {},
   "outputs": [
    {
     "name": "stdout",
     "output_type": "stream",
     "text": [
      "{1: 5, 5: 2, 3: 3, 4: 3, 2: 4}\n"
     ]
    }
   ],
   "source": [
    "h = [1, 1, 1, 5, 5, 3, 1, 3, 3, 1,4, 4, 4, 2, 2, 2, 2]\n",
    "\n",
    "def CountFreq(h):\n",
    "  freq = {}\n",
    "  for items in h:\n",
    "    freq[items] = h.count(items)\n",
    "  print(freq)\n",
    "  \n",
    "CountFreq(h)"
   ]
  },
  {
   "cell_type": "code",
   "execution_count": null,
   "id": "af851386",
   "metadata": {},
   "outputs": [],
   "source": []
  },
  {
   "cell_type": "code",
   "execution_count": 34,
   "id": "e5543939",
   "metadata": {},
   "outputs": [],
   "source": [
    "# Question 17 \n",
    "\n",
    "## Write a python program using function to find the sum of odd series and even series\n",
    "\n",
    "### Odd series: 12/ 1! + 32/ 3! + 52/ 5!+……n\n",
    "\n",
    "### Even series: 22/ 2! + 42/ 4! + 62/ 6!+……n"
   ]
  },
  {
   "cell_type": "code",
   "execution_count": 35,
   "id": "eede1680",
   "metadata": {},
   "outputs": [
    {
     "name": "stdout",
     "output_type": "stream",
     "text": [
      "The original list is : [1, 2, 5, 8, 6, 2, 3, 6, 4, 1, 2, 5, 8, 9, 1, 3, 5, 5, 4, 7]\n",
      "Odd digit sum : 45\n",
      "Even digit sum : 42\n"
     ]
    }
   ],
   "source": [
    "list = [1,2,5,8,6,2,3,6,4,1,2,5,8,9,1,3,5,5,4,7]\n",
    " \n",
    "print(\"The original list is : \" + str(list))\n",
    " \n",
    "odd_sum = 0\n",
    "even_sum = 0\n",
    " \n",
    "for sub in list:\n",
    "    for ele in str(sub):\n",
    "         \n",
    " \n",
    "        if int(ele) % 2 == 0:\n",
    "            even_sum += int(ele)\n",
    "        else:\n",
    "            odd_sum += int(ele)\n",
    " \n",
    "\n",
    "print(\"Odd digit sum : \" + str(odd_sum))\n",
    "print(\"Even digit sum : \" + str(even_sum))"
   ]
  },
  {
   "cell_type": "code",
   "execution_count": null,
   "id": "2b958d01",
   "metadata": {},
   "outputs": [],
   "source": []
  },
  {
   "cell_type": "code",
   "execution_count": 36,
   "id": "e69c14f8",
   "metadata": {},
   "outputs": [],
   "source": [
    "# Question 18 \n",
    "\n",
    "##  Python Program to Find Factorial of Number Using Recursion"
   ]
  },
  {
   "cell_type": "code",
   "execution_count": 38,
   "id": "e353b356",
   "metadata": {},
   "outputs": [
    {
     "name": "stdout",
     "output_type": "stream",
     "text": [
      "User Input : 6\n",
      "The factorial of 6 is 720\n"
     ]
    }
   ],
   "source": [
    "def recursive_factorial(n):\n",
    "  if n == 1:\n",
    "     return n\n",
    "  else:\n",
    "     return n*recursive_factorial(n-1)  \n",
    "\n",
    "number = int(input(\"User Input : \"))\n",
    "print(\"The factorial of\", number, \"is\", recursive_factorial(number))\n",
    "                "
   ]
  },
  {
   "cell_type": "code",
   "execution_count": null,
   "id": "748b7318",
   "metadata": {},
   "outputs": [],
   "source": []
  },
  {
   "cell_type": "code",
   "execution_count": 39,
   "id": "25b6cb6e",
   "metadata": {},
   "outputs": [],
   "source": [
    "#Question 19\n",
    "\n",
    "## Write a Python function that takes a list and returns a new list with unique elements of the first list. "
   ]
  },
  {
   "cell_type": "code",
   "execution_count": 40,
   "id": "f385e2c6",
   "metadata": {},
   "outputs": [
    {
     "name": "stdout",
     "output_type": "stream",
     "text": [
      "[1, 2, 3, 4, 5, 6]\n"
     ]
    }
   ],
   "source": [
    "def unique_list(l):\n",
    "  h = []\n",
    "  for a in l:\n",
    "    if a not in h:\n",
    "      h.append(a)\n",
    "  return h\n",
    "\n",
    "print(unique_list([1,2,3,4,4,4,5,5,5,5,6,6,6,6,6])) "
   ]
  },
  {
   "cell_type": "code",
   "execution_count": null,
   "id": "f3d7cecc",
   "metadata": {},
   "outputs": [],
   "source": []
  },
  {
   "cell_type": "code",
   "execution_count": 41,
   "id": "496ce215",
   "metadata": {},
   "outputs": [],
   "source": [
    "# Question 20\n",
    "\n",
    "## Problem Statement : Password Generator\n",
    "\n",
    "### Make a program to generate a strong password using the input given by the user. To generate a password,randomly take some words from the user input and then include numbers, special characters and capitalletters to generate the password. Also, keep a check that password length is more than 8 characters.\n",
    "### Note: Include Exception handling wherever required. Also, make a ‘User’ class and store the details like userid, name and password of each user as a tuple."
   ]
  },
  {
   "cell_type": "code",
   "execution_count": 42,
   "id": "fff1c53d",
   "metadata": {},
   "outputs": [
    {
     "name": "stdout",
     "output_type": "stream",
     "text": [
      "Vj%o<.KMfV6K\n"
     ]
    }
   ],
   "source": [
    "import random\n",
    "import array\n",
    "\n",
    "MAX_LEN =12\n",
    "\n",
    "DIGITS = ['0', '1', '2', '3', '4', '5', '6', '7', '8', '9']\n",
    "LOCASE_CHARACTERS = ['a', 'b', 'c', 'd', 'e', 'f', 'g', 'h',\n",
    "\t\t\t\t\t'i', 'j', 'k', 'm', 'n', 'o', 'p', 'q',\n",
    "\t\t\t\t\t'r', 's', 't', 'u', 'v', 'w', 'x', 'y',\n",
    "\t\t\t\t\t'z']\n",
    "\n",
    "UPCASE_CHARACTERS = ['A', 'B', 'C', 'D', 'E', 'F', 'G', 'H',\n",
    "\t\t\t\t\t'I', 'J', 'K', 'M', 'N', 'O', 'P', 'Q',\n",
    "\t\t\t\t\t'R', 'S', 'T', 'U', 'V', 'W', 'X', 'Y',\n",
    "\t\t\t\t\t'Z']\n",
    "\n",
    "SYMBOLS = ['@', '#', '$', '%', '=', ':', '?', '.', '/', '|', '~', '>',\n",
    "\t\t'*', '(', ')', '<']\n",
    "\n",
    "COMBINED_LIST = DIGITS + UPCASE_CHARACTERS + LOCASE_CHARACTERS + SYMBOLS\n",
    "\n",
    "rand_digit = random.choice(DIGITS)\n",
    "rand_upper = random.choice(UPCASE_CHARACTERS)\n",
    "rand_lower = random.choice(LOCASE_CHARACTERS)\n",
    "rand_symbol = random.choice(SYMBOLS)\n",
    "\n",
    "temp_pass = rand_digit + rand_upper + rand_lower + rand_symbol\n",
    "\n",
    "for x in range(MAX_LEN - 4):\n",
    "\ttemp_pass = temp_pass + random.choice(COMBINED_LIST)\n",
    "\n",
    "\n",
    "\ttemp_pass_list = array.array('u', temp_pass)\n",
    "\trandom.shuffle(temp_pass_list)\n",
    "\n",
    "password = \"\"\n",
    "for x in temp_pass_list:\n",
    "\t\tpassword = password + x\n",
    "\t\t\n",
    "print(password)\n"
   ]
  },
  {
   "cell_type": "code",
   "execution_count": null,
   "id": "28e9e82b",
   "metadata": {},
   "outputs": [],
   "source": []
  }
 ],
 "metadata": {
  "kernelspec": {
   "display_name": "Python 3 (ipykernel)",
   "language": "python",
   "name": "python3"
  },
  "language_info": {
   "codemirror_mode": {
    "name": "ipython",
    "version": 3
   },
   "file_extension": ".py",
   "mimetype": "text/x-python",
   "name": "python",
   "nbconvert_exporter": "python",
   "pygments_lexer": "ipython3",
   "version": "3.9.13"
  }
 },
 "nbformat": 4,
 "nbformat_minor": 5
}
